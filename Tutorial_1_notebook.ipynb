{
 "cells": [
  {
   "cell_type": "code",
   "execution_count": null,
   "metadata": {},
   "outputs": [],
   "source": [
    "import numpy as np\n",
    "import matplotlib.pyplot as plt\n",
    "from bisection import *\n",
    "from dist import *\n",
    "\n",
    "# Define a function with a root where the horizontal distanc equals R.\n",
    "def F(theta):\n",
    "    return\n",
    "\n",
    "v0=\n",
    "c=\n",
    "g=\n",
    "R = \n",
    "eps_x =    # The maximal error is stated in the assignment!\n",
    "eps_f = \n",
    "kMax = \n"
   ]
  },
  {
   "cell_type": "code",
   "execution_count": null,
   "metadata": {},
   "outputs": [],
   "source": [
    "\n",
    "# First task: solution(s) for R=85.0 (m).\n",
    "theta, ... = bisect( ... )\n",
    "if conv:\n",
    "    print(\"First solution: R=%f, theta=%f +/- %f.\" % (R,theta,err))\n",
    "else:\n",
    "    print(\"Bisection did not converge!\")\n",
    "theta, ... = bisect( ... )\n",
    "if conv:\n",
    "    print(\"Second solution: R=%f, theta=%f +/- %f.\" % (R,theta,err))\n",
    "else:\n",
    "    print(\"Bisection did not converge!\")\n",
    "\n"
   ]
  },
  {
   "cell_type": "code",
   "execution_count": null,
   "metadata": {},
   "outputs": [],
   "source": [
    "\n",
    "# Second task: find solutions in a range of values for R and plot the solution vs. R.\n",
    "# First, let us get an impression of the maximal value of R:\n",
    "angles = np.linspace(0,np.pi/2,100)\n",
    "dists = dist(angles,c,g,v0)\n",
    "plt.plot(angles,dists,'-*')\n",
    "plt.xlabel('angle')\n",
    "plt.ylabel('distance travelled')\n",
    "plt.show()\n",
    "# It seems the maximal reach is about 201(m). Let's try to automatically find the angles:\n",
    "RMax =   \n",
    "nPoints =   # Compute nPoints solutions on each \"branch\" (low and fast vs. high and looping).\n",
    "split =     # By the eye, this is the angle that separates the branches.\n",
    "Rs = np.linspace(0,RMax,nPoints)\n",
    "# Complete two loops, one for each branch. For the first run, the initial interval is [0,split],\n",
    "# for the second it is [split,pi/2].\n",
    "result = [[0,0]]\n",
    "for i in range(1,nPoints):\n",
    "    R = Rs[i] # Note, that R is a global variable in this script.\n",
    "    theta, ... = bisect( ... )\n",
    "    if conv:\n",
    "        result.append([R,theta])\n",
    "    else:\n",
    "        print(\"Bisection did not converge for R=%f.\" % (R))\n",
    "for i in range(nPoints-1,0,-1):\n",
    "    R = Rs[i]\n",
    "    theta, ... = bisect( ... )\n",
    "    if conv:\n",
    "        result.append([R,theta])\n",
    "    else:\n",
    "        print(\"Bisection did not converge for R=%f.\" % (R))\n",
    "result = np.array(result)\n",
    "plt.plot(result[:,0],result[:,1],'-*')\n",
    "plt.show()\n",
    "# As you can see, there is an issue near the maximal value of R. Can you explain why?\n"
   ]
  }
 ],
 "metadata": {
  "kernelspec": {
   "display_name": "ChatGPT",
   "language": "python",
   "name": "python3"
  },
  "language_info": {
   "codemirror_mode": {
    "name": "ipython",
    "version": 3
   },
   "file_extension": ".py",
   "mimetype": "text/x-python",
   "name": "python",
   "nbconvert_exporter": "python",
   "pygments_lexer": "ipython3",
   "version": "3.11.3"
  }
 },
 "nbformat": 4,
 "nbformat_minor": 2
}
